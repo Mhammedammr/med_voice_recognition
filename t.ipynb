{
 "cells": [
  {
   "cell_type": "code",
   "execution_count": 3,
   "metadata": {},
   "outputs": [],
   "source": [
    "from src.speech_service import SpeechService\n",
    "from src.llm_service import LLMService\n",
    "from src.file_service import FileService\n",
    "from src.text_parser import parse_refined_text_voice"
   ]
  },
  {
   "cell_type": "code",
   "execution_count": 1,
   "metadata": {},
   "outputs": [
    {
     "ename": "ModuleNotFoundError",
     "evalue": "No module named 'pydub'",
     "output_type": "error",
     "traceback": [
      "\u001b[31m---------------------------------------------------------------------------\u001b[39m",
      "\u001b[31mModuleNotFoundError\u001b[39m                       Traceback (most recent call last)",
      "\u001b[36mCell\u001b[39m\u001b[36m \u001b[39m\u001b[32mIn[1]\u001b[39m\u001b[32m, line 1\u001b[39m\n\u001b[32m----> \u001b[39m\u001b[32m1\u001b[39m \u001b[38;5;28;01mfrom\u001b[39;00m\u001b[38;5;250m \u001b[39m\u001b[34;01mpydub\u001b[39;00m\u001b[38;5;250m \u001b[39m\u001b[38;5;28;01mimport\u001b[39;00m AudioSegment\n\u001b[32m      3\u001b[39m \u001b[38;5;66;03m# Load an audio file (supports WAV, MP3, etc.)\u001b[39;00m\n\u001b[32m      4\u001b[39m audio = AudioSegment.from_file(\u001b[33m\"\u001b[39m\u001b[33m/Users/muhammedamr/Desktop/AHBS/Voice recognition/waves/New Recording 8.m4a\u001b[39m\u001b[33m\"\u001b[39m)\n",
      "\u001b[31mModuleNotFoundError\u001b[39m: No module named 'pydub'"
     ]
    }
   ],
   "source": [
    "from pydub import AudioSegment\n",
    "\n",
    "# Load an audio file (supports WAV, MP3, etc.)\n",
    "audio = AudioSegment.from_file(\"/Users/muhammedamr/Desktop/AHBS/Voice recognition/waves/New Recording 8.m4a\")"
   ]
  },
  {
   "cell_type": "code",
   "execution_count": null,
   "metadata": {},
   "outputs": [],
   "source": [
    "\n",
    "from fireworks.client.audio import AudioInference\n",
    "import requests\n",
    "\n",
    "with open(\"/Users/muhammedamr/Desktop/AHBS/med_voice_recognition/waves/nexura_demo.m4a\", \"rb\") as f:\n",
    "    audio = f.read()  # Same binary format as requests.get().content\n",
    "client = AudioInference(\n",
    "    model=\"whisper-v3\",\n",
    "    base_url=\"https://audio-prod.us-virginia-1.direct.fireworks.ai\",\n",
    "    #\n",
    "    # Or for the turbo version\n",
    "    # model=\"whisper-v3-turbo\",\n",
    "    # base_url=\"https://audio-turbo.us-virginia-1.direct.fireworks.ai\",\n",
    "    api_key=\"fw_3ZWpzaFeeuBun5AD2T59Etrz\",\n",
    "    \n",
    ")\n",
    "\n",
    "# Make request\n",
    "r = client.transcribe(audio=audio, language=\"ar\")\n",
    "print(r)"
   ]
  },
  {
   "cell_type": "code",
   "execution_count": 16,
   "metadata": {},
   "outputs": [],
   "source": [
    "import requests\n",
    "def trans():\n",
    "    audio_file = open(\"/Users/muhammedamr/Desktop/AHBS/med_voice_recognition/waves/nexura_demo.m4a\", \"rb\")\n",
    "    response = requests.post(\n",
    "        \"https://api.fireworks.ai/inference/v1/audio/transcriptions\",\n",
    "        headers={\"Authorization\": f\"Bearer fw_3ZWpzaFeeuBun5AD2T59Etrz\"},\n",
    "        files={\"file\": audio_file},\n",
    "        data={\"model\": \"whisper-v3\", \"language\": \"ar\"}\n",
    "    )\n",
    "    print(response.json()[\"text\"])"
   ]
  },
  {
   "cell_type": "code",
   "execution_count": 18,
   "metadata": {},
   "outputs": [
    {
     "name": "stdout",
     "output_type": "stream",
     "text": [
      "أنا عبدالله كيف حالك؟ اللي مضايق النهاردة صباح الخير يا دكتور بصراحة محس بوجع رأس دايماً وصل له أسبوعين خاصة الصبح مع شوية وجع بطن ألف سلام عليك عبدالله بتاخد أي دوية دلوقتي؟ اه ايه فيه كم دواء بياخدوه بس هني للضغط سلامتك يا عبدالله طيب إحنا محتاجين هنعمل شوية تحاليل هنعمل صورة دم كاملة بعد ما تزهر نتيجة التحاليل هنتقابل بكرة إن شاء الله أوكي؟ أوكي شور شكرا يا عبدالله\n"
     ]
    }
   ],
   "source": [
    "trans()"
   ]
  },
  {
   "cell_type": "code",
   "execution_count": null,
   "metadata": {},
   "outputs": [],
   "source": []
  }
 ],
 "metadata": {
  "kernelspec": {
   "display_name": "venv",
   "language": "python",
   "name": "python3"
  },
  "language_info": {
   "codemirror_mode": {
    "name": "ipython",
    "version": 3
   },
   "file_extension": ".py",
   "mimetype": "text/x-python",
   "name": "python",
   "nbconvert_exporter": "python",
   "pygments_lexer": "ipython3",
   "version": "3.11.11"
  }
 },
 "nbformat": 4,
 "nbformat_minor": 2
}
